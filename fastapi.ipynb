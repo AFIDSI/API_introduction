{
  "nbformat": 4,
  "nbformat_minor": 0,
  "metadata": {
    "colab": {
      "name": "fastapi.ipynb",
      "provenance": [],
      "collapsed_sections": [],
      "authorship_tag": "ABX9TyPPeqLLXzGobf4Q2q4Hfy1u",
      "include_colab_link": true
    },
    "kernelspec": {
      "name": "python3",
      "display_name": "Python 3"
    },
    "language_info": {
      "name": "python"
    }
  },
  "cells": [
    {
      "cell_type": "markdown",
      "metadata": {
        "id": "view-in-github",
        "colab_type": "text"
      },
      "source": [
        "<a href=\"https://colab.research.google.com/github/blue442/DS875/blob/main/fastapi.ipynb\" target=\"_parent\"><img src=\"https://colab.research.google.com/assets/colab-badge.svg\" alt=\"Open In Colab\"/></a>"
      ]
    },
    {
      "cell_type": "markdown",
      "metadata": {
        "id": "RTCGc7sJHmEC"
      },
      "source": [
        "Start by making sure all the required packages are installed:"
      ]
    },
    {
      "cell_type": "code",
      "metadata": {
        "colab": {
          "base_uri": "https://localhost:8080/"
        },
        "id": "7HhP00QSHdtC",
        "outputId": "97ad8f62-8232-4464-8dcb-b253ebe1dcf8"
      },
      "source": [
        "!pip install fastapi nest-asyncio pyngrok uvicorn"
      ],
      "execution_count": 1,
      "outputs": [
        {
          "output_type": "stream",
          "text": [
            "Requirement already satisfied: fastapi in /usr/local/lib/python3.7/dist-packages (0.63.0)\n",
            "Requirement already satisfied: nest-asyncio in /usr/local/lib/python3.7/dist-packages (1.5.1)\n",
            "Requirement already satisfied: pyngrok in /usr/local/lib/python3.7/dist-packages (5.0.5)\n",
            "Requirement already satisfied: uvicorn in /usr/local/lib/python3.7/dist-packages (0.13.4)\n",
            "Requirement already satisfied: pydantic<2.0.0,>=1.0.0 in /usr/local/lib/python3.7/dist-packages (from fastapi) (1.8.1)\n",
            "Requirement already satisfied: starlette==0.13.6 in /usr/local/lib/python3.7/dist-packages (from fastapi) (0.13.6)\n",
            "Requirement already satisfied: PyYAML in /usr/local/lib/python3.7/dist-packages (from pyngrok) (3.13)\n",
            "Requirement already satisfied: click==7.* in /usr/local/lib/python3.7/dist-packages (from uvicorn) (7.1.2)\n",
            "Requirement already satisfied: h11>=0.8 in /usr/local/lib/python3.7/dist-packages (from uvicorn) (0.12.0)\n",
            "Requirement already satisfied: typing-extensions; python_version < \"3.8\" in /usr/local/lib/python3.7/dist-packages (from uvicorn) (3.7.4.3)\n"
          ],
          "name": "stdout"
        }
      ]
    },
    {
      "cell_type": "markdown",
      "metadata": {
        "id": "qQNg9xj5Hpyq"
      },
      "source": [
        "Import the required packages to the current environment"
      ]
    },
    {
      "cell_type": "code",
      "metadata": {
        "id": "n8OlGrH0HgRI"
      },
      "source": [
        "from fastapi import FastAPI\n",
        "import nest_asyncio\n",
        "from pyngrok import ngrok\n",
        "import requests\n",
        "import uvicorn\n",
        "from multiprocess import Process"
      ],
      "execution_count": 2,
      "outputs": []
    },
    {
      "cell_type": "markdown",
      "metadata": {
        "id": "a-ELiJmuHwju"
      },
      "source": [
        "Instantiate a '[FastAPI](https://fastapi.tiangolo.com/)' app object. FastAPI is a great library developed for python that allows you to easily deploy APIs with a few lines of code. Not only is it simple, but it has a number of useful features, and it's also quite scalable. This 'app' object will be the server logic that receives requests, then packages and returns responses using logic we will specify."
      ]
    },
    {
      "cell_type": "code",
      "metadata": {
        "id": "kpT_LVNaHj3V"
      },
      "source": [
        "app = FastAPI()"
      ],
      "execution_count": 3,
      "outputs": []
    },
    {
      "cell_type": "markdown",
      "metadata": {
        "id": "9SVECwUPH5gj"
      },
      "source": [
        "Now that we have an instance of the app, we'll create a route defined by a 'routing function'. The url of our route will be of the format [base_url]/[route]. The [base_url] will  be generated later by our 'ngrok' process, but we will specify the [route] information in the next cell with the line:\n",
        "\n",
        "\n",
        "```\n",
        "@app.get('[route]')\n",
        "```\n",
        "\n",
        "This first line is a python '[decorator](https://realpython.com/primer-on-python-decorators/)' - basically passing a function to a function. It basically tells our 'app' object (from above) that we want a 'get' request to the [route] to trigger the function defined below.\n",
        "\n",
        "\n",
        "The rest of the code in the cell below initializes a function named 'home' with the line:\n",
        "\n",
        "```\n",
        "def home():\n",
        "```\n",
        "\n",
        "and then specifies the logic that will be performed by that function - in this case just return the string \"Hello World\":\n",
        "\n",
        "```\n",
        "return \"Hello DS875!\"\n",
        "```\n"
      ]
    },
    {
      "cell_type": "code",
      "metadata": {
        "id": "mUZcOpW4H0v5"
      },
      "source": [
        "@app.get('/index')\n",
        "def home():\n",
        "  return \"Hello DS875!\""
      ],
      "execution_count": 4,
      "outputs": []
    },
    {
      "cell_type": "markdown",
      "metadata": {
        "id": "uB8bQHswaVPG"
      },
      "source": [
        "---\n",
        "Now we're going to define a function that runs our FastAPI server so that it will produce responses to the requests at the route we specified. \n",
        "\n",
        "**EXTRA INFO:** There is a little 'magic' in this next function:\n",
        "* We are deploying our server logic (the `app` object) using a service called '[uvicorn](https://www.uvicorn.org/)'. While `app` contains the logic of what we want to do, uvicorn actually implements it.\n",
        "* We are using [ngrok](https://ngrok.com/), which is a service to connect the server running inside our notebook environment to the outside world. \n",
        "* We are also using a library called 'Process' which lets us push the webserver to the background, or the cell that runs it would be stuck."
      ]
    },
    {
      "cell_type": "code",
      "metadata": {
        "id": "fWnRrtL5W1Ml"
      },
      "source": [
        "def run_api_server(app):\n",
        "  ngrok_tunnel = ngrok.connect(8000)\n",
        "  print('[base_url]:', ngrok_tunnel.public_url)\n",
        "  base_url = ngrok_tunnel.public_url\n",
        "  nest_asyncio.apply()\n",
        "  server_process = Process(target = uvicorn.run, args=(app,), kwargs={'port': 8000})\n",
        "  server_process.start()\n",
        "  return server_process, base_url"
      ],
      "execution_count": 5,
      "outputs": []
    },
    {
      "cell_type": "markdown",
      "metadata": {
        "id": "GE1t5Mnvebzk"
      },
      "source": [
        "We run that function, and it returns a process object (so we have a handle on the server running in the background) and the base url of our api server."
      ]
    },
    {
      "cell_type": "code",
      "metadata": {
        "colab": {
          "base_uri": "https://localhost:8080/"
        },
        "id": "VaVgjNx6XAI0",
        "outputId": "a6a585d0-279a-49b2-a4fd-9e9698fcb461"
      },
      "source": [
        "server_process, base_url = run_api_server(app)"
      ],
      "execution_count": 6,
      "outputs": [
        {
          "output_type": "stream",
          "text": [
            "[base_url]: http://fb440a7b6330.ngrok.io\n"
          ],
          "name": "stdout"
        },
        {
          "output_type": "stream",
          "text": [
            "INFO:     Started server process [1966]\n",
            "INFO:     Waiting for application startup.\n",
            "INFO:     Application startup complete.\n",
            "INFO:     Uvicorn running on http://127.0.0.1:8000 (Press CTRL+C to quit)\n"
          ],
          "name": "stderr"
        }
      ]
    },
    {
      "cell_type": "markdown",
      "metadata": {
        "id": "OPPY4nsYJ0y0"
      },
      "source": [
        "If we take the [base_url] as defined above, and append it with the \n",
        "[route] information from our routing function in the format [base_url]/[route] we should get the response \"Hello DS875!\". We'll do it with the requests module in the following cell, but you can also do it in a separate browser window, as we've just deployed a live API endpoint!"
      ]
    },
    {
      "cell_type": "code",
      "metadata": {
        "colab": {
          "base_uri": "https://localhost:8080/",
          "height": 35
        },
        "id": "mVX5H64KJycp",
        "outputId": "557501fe-387a-4387-fcd1-afcf955e330f"
      },
      "source": [
        "requests.get(base_url + '/index').json()"
      ],
      "execution_count": 7,
      "outputs": [
        {
          "output_type": "execute_result",
          "data": {
            "application/vnd.google.colaboratory.intrinsic+json": {
              "type": "string"
            },
            "text/plain": [
              "'Hello DS875!'"
            ]
          },
          "metadata": {
            "tags": []
          },
          "execution_count": 7
        }
      ]
    },
    {
      "cell_type": "markdown",
      "metadata": {
        "id": "1m2GUlI3r9Jf"
      },
      "source": [
        "Here's a shortcut that should open in a new browser tab:"
      ]
    },
    {
      "cell_type": "code",
      "metadata": {
        "colab": {
          "base_uri": "https://localhost:8080/"
        },
        "id": "JUYWgtCcr3-C",
        "outputId": "c4090751-d432-48b6-d756-a6d5a721fa01"
      },
      "source": [
        "print(base_url + '/index')"
      ],
      "execution_count": 18,
      "outputs": [
        {
          "output_type": "stream",
          "text": [
            "http://31fccbd0eb5a.ngrok.io/index\n"
          ],
          "name": "stdout"
        }
      ]
    },
    {
      "cell_type": "markdown",
      "metadata": {
        "id": "2eU5LXNAiE8r"
      },
      "source": [
        "---\n",
        "\n",
        "Now, to make it a little more exciting, we're going to add a more interactive route to our webserver so we can integrate some input. We'll have to start by stopping the webserver that is currently running so we can update it. The following cell will reconnect to the server if it is still running (`.join()`) and close it (`.close()`). Becuase the `.join()` connects to a running process, you have to STOP the cell before running the `.close()` function."
      ]
    },
    {
      "cell_type": "code",
      "metadata": {
        "id": "E8hTkq_WiEmB"
      },
      "source": [
        "server_process.join()"
      ],
      "execution_count": 9,
      "outputs": []
    },
    {
      "cell_type": "code",
      "metadata": {
        "id": "tpNKRLeOrEI9"
      },
      "source": [
        "server_process.close()"
      ],
      "execution_count": 10,
      "outputs": []
    },
    {
      "cell_type": "markdown",
      "metadata": {
        "id": "CddiM1vXrF20"
      },
      "source": [
        "Then kill the ngrok process:"
      ]
    },
    {
      "cell_type": "code",
      "metadata": {
        "id": "TbJMdWO8mdEI"
      },
      "source": [
        "ngrok.kill()"
      ],
      "execution_count": 11,
      "outputs": []
    },
    {
      "cell_type": "markdown",
      "metadata": {
        "id": "uL3kUnDvesL9"
      },
      "source": [
        "Just like before, we'll add a new route to our app using a 'get' method - but this time, the request will include an 'id' value called 'item_id':\n",
        "\n",
        "```\n",
        "@app.get(\"/items/{item_id}\")\n",
        "```\n",
        "\n",
        "In the second line, we'll define the function called 'read_item', which will take as input the value of 'item_id' specified in the url of the request:\n",
        "\n",
        "```\n",
        "def read_item(item_id: int):\n",
        "```\n",
        "\n",
        "Notice that we can force the 'item_id' to be an integer or 'int'). This is a nice built-in type checking provided by the FastAPI library.\n",
        "\n",
        "Lastly, we want this function to package up the server's response - in this case we are just echoing the value of 'item_id' within a sentance, but the logic you implement here could be anything - e.g. querying for item information from a database.\n",
        "\n",
        "```\n",
        "return {\"the item_id you supplied is \": item_id}\n",
        "```\n"
      ]
    },
    {
      "cell_type": "code",
      "metadata": {
        "id": "WUJhbvBleqIV"
      },
      "source": [
        "@app.get(\"/items/{item_id}\")\n",
        "def read_item(item_id: int):\n",
        "    return {\"The item_id you supplied is\": item_id}"
      ],
      "execution_count": 12,
      "outputs": []
    },
    {
      "cell_type": "markdown",
      "metadata": {
        "id": "E_uy_F4RigxJ"
      },
      "source": [
        "Then we'll fire up the app again using the `run_api_server()` function:"
      ]
    },
    {
      "cell_type": "code",
      "metadata": {
        "colab": {
          "base_uri": "https://localhost:8080/"
        },
        "id": "SkGyfdZEiwbS",
        "outputId": "bc7a15bf-4509-4cb7-c1a3-51c37765bc8f"
      },
      "source": [
        "server_process, base_url = run_api_server(app)"
      ],
      "execution_count": 13,
      "outputs": [
        {
          "output_type": "stream",
          "text": [
            "[base_url]: http://31fccbd0eb5a.ngrok.io\n"
          ],
          "name": "stdout"
        },
        {
          "output_type": "stream",
          "text": [
            "INFO:     Started server process [2004]\n",
            "INFO:     Waiting for application startup.\n",
            "INFO:     Application startup complete.\n",
            "INFO:     Uvicorn running on http://127.0.0.1:8000 (Press CTRL+C to quit)\n"
          ],
          "name": "stderr"
        }
      ]
    },
    {
      "cell_type": "markdown",
      "metadata": {
        "id": "Sc41bWMVlFqE"
      },
      "source": [
        "Note that we likely have a different [base_url] now - ngrok randomly generates  a URL to connect our process to, but in a real API deployment this would be a static URL.\n",
        "\n",
        "Now we can submit a request to that new url - in the example below, I've specified the item number to be '10', but you can change it to whatever you want."
      ]
    },
    {
      "cell_type": "code",
      "metadata": {
        "colab": {
          "base_uri": "https://localhost:8080/"
        },
        "id": "D0tdJ_0si19X",
        "outputId": "7d52861e-d764-4c66-854a-9674bb99ac3b"
      },
      "source": [
        "item_number = 10\n",
        "requests.get(base_url + '/items/' + str(item_number)).json()"
      ],
      "execution_count": 14,
      "outputs": [
        {
          "output_type": "execute_result",
          "data": {
            "text/plain": [
              "{'The item_id you supplied is': 10}"
            ]
          },
          "metadata": {
            "tags": []
          },
          "execution_count": 14
        }
      ]
    },
    {
      "cell_type": "markdown",
      "metadata": {
        "id": "Pjpsid0yll3F"
      },
      "source": [
        "If you remember, we implemented some basic data type checking in the `read_items()` function that forced it to only allow integer values. What happens if we try to submit a string?"
      ]
    },
    {
      "cell_type": "code",
      "metadata": {
        "colab": {
          "base_uri": "https://localhost:8080/"
        },
        "id": "XGZTmHhWi16C",
        "outputId": "47254519-fda4-4d24-c190-4895d8d9c750"
      },
      "source": [
        "item_number = 'malicious code!'\n",
        "req = requests.get(base_url + '/items/' + item_number)\n",
        "print('The response is: ' + str(req.json()))\n",
        "print('The status code of the response is: ' + str(req.status_code))"
      ],
      "execution_count": 15,
      "outputs": [
        {
          "output_type": "stream",
          "text": [
            "The response is: {'detail': [{'loc': ['path', 'item_id'], 'msg': 'value is not a valid integer', 'type': 'type_error.integer'}]}\n",
            "The status code of the response is: 422\n"
          ],
          "name": "stdout"
        }
      ]
    },
    {
      "cell_type": "markdown",
      "metadata": {
        "id": "WBkf45z6nFAr"
      },
      "source": [
        "As you can see, it rejected our request with a status code of '422'. This code means:\n",
        "\n",
        "> **422 UNPROCESSABLE ENTITY**\n",
        "> \n",
        "> The server understands the content type of the request entity (hence a 415 Unsupported Media Type status code is inappropriate), and the syntax of the request entity is correct (thus a 400 Bad Request status code is inappropriate) but was unable to process the contained instructions.\n",
        "\n",
        "While this could be a mistake by the API user, this is also a basic way of protecting against malicious code being sent over to the server.\n"
      ]
    },
    {
      "cell_type": "markdown",
      "metadata": {
        "id": "Ipu1MKfWpE7n"
      },
      "source": [
        "\n",
        "\n",
        "---\n",
        "\n",
        "The last thing that we'll explore, is the built-in tooling provided by the FastAPI library to produce documentation. The beauty here is that our `app` has already put it together using the OpenAPI standard, and has made it available at a special route called  `/docs` -  the full URL is generated in the next cell:"
      ]
    },
    {
      "cell_type": "code",
      "metadata": {
        "colab": {
          "base_uri": "https://localhost:8080/"
        },
        "id": "i67Nphpfi13a",
        "outputId": "d2cd15ce-01d9-4e03-cc87-22f700d93174"
      },
      "source": [
        "# generate an URL\n",
        "url = base_url + '/docs'\n",
        "print(url)"
      ],
      "execution_count": 17,
      "outputs": [
        {
          "output_type": "stream",
          "text": [
            "http://31fccbd0eb5a.ngrok.io/docs\n"
          ],
          "name": "stdout"
        }
      ]
    },
    {
      "cell_type": "markdown",
      "metadata": {
        "id": "mqEoQU27Wsp-"
      },
      "source": [
        "Finally, we want to re-attach to the server process that we pushed to the background, and stop it from running (again, you have to run the cell, stop it, and run it again :/)"
      ]
    },
    {
      "cell_type": "code",
      "metadata": {
        "id": "brDjiSc5WEJK"
      },
      "source": [
        "server_process.join()\n",
        "server_process.close()"
      ],
      "execution_count": 30,
      "outputs": []
    },
    {
      "cell_type": "markdown",
      "metadata": {
        "id": "29gZZnMGc8fs"
      },
      "source": [
        "Finally, kill the ngrok pipe:"
      ]
    },
    {
      "cell_type": "code",
      "metadata": {
        "id": "LYZUpZ3OYfJx"
      },
      "source": [
        "ngrok.kill()"
      ],
      "execution_count": 31,
      "outputs": []
    },
    {
      "cell_type": "code",
      "metadata": {
        "id": "Nz4YkR8_q0tW"
      },
      "source": [
        ""
      ],
      "execution_count": null,
      "outputs": []
    }
  ]
}