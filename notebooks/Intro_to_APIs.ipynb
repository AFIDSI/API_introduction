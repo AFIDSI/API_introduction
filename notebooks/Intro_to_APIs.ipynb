{
 "cells": [
  {
   "cell_type": "markdown",
   "metadata": {
    "colab_type": "text",
    "id": "view-in-github"
   },
   "source": [
    "<a href=\"https://colab.research.google.com/github/blue442/DS875/blob/main/notebooks/Intro_to_APIs.ipynb\" target=\"_parent\"><img src=\"https://colab.research.google.com/assets/colab-badge.svg\" alt=\"Open In Colab\"/></a>"
   ]
  },
  {
   "cell_type": "markdown",
   "metadata": {
    "id": "BKb_gKhL_daC"
   },
   "source": [
    "In order to start interacting with APIs, we'll start by familiarizing ourselves with the `requests` library for python. This library provides functionality for creating and submitting requests to servers, as well as for handling the responses. We'll start by importing the library:"
   ]
  },
  {
   "cell_type": "code",
   "execution_count": null,
   "metadata": {
    "id": "4RNiSMki_aYF"
   },
   "outputs": [],
   "source": [
    "import requests"
   ]
  },
  {
   "cell_type": "markdown",
   "metadata": {
    "id": "GxVheqWKAFhk"
   },
   "source": [
    "The `requests` import provides access to submitting requests through a number of pathways, intended to be relatively streightfoward. For example, common http verbs (GET, POST, DELETE, etc) are actually functions that can be called directly off the requests object. For basic requests (simple GET requests) all you need is to pass the URL to the function and it returns the response:"
   ]
  },
  {
   "cell_type": "code",
   "execution_count": null,
   "metadata": {
    "colab": {
     "base_uri": "https://localhost:8080/"
    },
    "id": "sJIpg6yK_4Oc",
    "outputId": "a8ce8e92-37b1-40e1-d604-b6390dc1e979"
   },
   "outputs": [],
   "source": [
    "requests.get('http://www.example.com')"
   ]
  },
  {
   "cell_type": "markdown",
   "metadata": {
    "id": "kc_8lDeLBAs0"
   },
   "source": [
    "By default, instantiation of the object just prints the response code; if we capture the object returned by the function, we can dig into it a little deeper:"
   ]
  },
  {
   "cell_type": "code",
   "execution_count": null,
   "metadata": {
    "id": "_7UCG7_oA67f"
   },
   "outputs": [],
   "source": [
    "response = requests.get('http://www.example.com')"
   ]
  },
  {
   "cell_type": "code",
   "execution_count": null,
   "metadata": {
    "colab": {
     "base_uri": "https://localhost:8080/",
     "height": 35
    },
    "id": "gWpkXFMQBOAn",
    "outputId": "0aeb52ee-3196-477c-8ddc-dc9a717e183c"
   },
   "outputs": [],
   "source": [
    "response.url"
   ]
  },
  {
   "cell_type": "code",
   "execution_count": null,
   "metadata": {
    "colab": {
     "base_uri": "https://localhost:8080/"
    },
    "id": "q5UjPXc7IYmM",
    "outputId": "41478cc2-f9fa-45bc-cc0b-52fd65fec400"
   },
   "outputs": [],
   "source": [
    "response.status_code"
   ]
  },
  {
   "cell_type": "code",
   "execution_count": null,
   "metadata": {
    "colab": {
     "base_uri": "https://localhost:8080/",
     "height": 154
    },
    "id": "RMqSgU0EIdfJ",
    "outputId": "123268b0-b04e-4719-b3b6-2eea0a0273cb"
   },
   "outputs": [],
   "source": [
    "response.text"
   ]
  },
  {
   "cell_type": "markdown",
   "metadata": {
    "id": "qOQYxCQDJXgV"
   },
   "source": [
    "That allows us to view the contents of the body of the request, but as you can see, it's a bit difficult to make sense of. As we can see in the beginning of the body it specifies that the document type is html (`<!doctype html>`), which means this information is better rendered as a webpage. Browsers are much better at rendering html compared to jupyter notebooks, so if you want to see the site, you can click on the URL which should open it in a new tab:"
   ]
  },
  {
   "cell_type": "code",
   "execution_count": null,
   "metadata": {
    "colab": {
     "base_uri": "https://localhost:8080/"
    },
    "id": "Zd-Y67fJI9WM",
    "outputId": "5498b7fe-60e4-4728-a68a-05e39e05e61f"
   },
   "outputs": [],
   "source": [
    "print(response.url)"
   ]
  },
  {
   "cell_type": "markdown",
   "metadata": {
    "id": "1K4V_fncKVtv"
   },
   "source": [
    "But no matter - we're not here to interact with web pages - we're here to interact with APIs, which are designed for machine readability (as opposed to webpages, which are designed for human readability). One more important function build into the `response` object is the `.json()` function - used to unpack json messages in the body of the response. It attemps to decode JSON formatted messages to a more readable format. In the event that there is no identifiable JSON content, it throws a `JSONDecodeError`. In our example response, we can see this happen:"
   ]
  },
  {
   "cell_type": "code",
   "execution_count": null,
   "metadata": {
    "colab": {
     "base_uri": "https://localhost:8080/",
     "height": 290
    },
    "id": "DUhDM3AeKNvz",
    "outputId": "f06fa36a-ea8a-472f-ff32-90b545c20f78"
   },
   "outputs": [],
   "source": [
    "response.json()"
   ]
  },
  {
   "cell_type": "markdown",
   "metadata": {
    "id": "sz8I_zJALX76"
   },
   "source": [
    "---\n",
    "\n",
    "We'll continue using the `requests` library, but if you're interested in a depper dive, the documentation for this library can be found [here](https://docs.python-requests.org/en/master/).\n",
    "\n",
    "But that's enough of html content - we're here to examine APIs! And like any good internet project, we'll start with one of the central tenents of the internet - cats! Cataas (**Cats** **a**s **a** **s**ervice - cataas.com) is a free API that provides free random cat images. We can make a request:"
   ]
  },
  {
   "cell_type": "code",
   "execution_count": null,
   "metadata": {
    "id": "Kc_Kkbl5OZzP"
   },
   "outputs": [],
   "source": [
    "cat_response = requests.get('https://cataas.com/cat')"
   ]
  },
  {
   "cell_type": "markdown",
   "metadata": {
    "id": "BLtr9nXtU50s"
   },
   "source": [
    "And then use the `display` method provided by the IPython library to render the content of the response:"
   ]
  },
  {
   "cell_type": "code",
   "execution_count": null,
   "metadata": {
    "colab": {
     "base_uri": "https://localhost:8080/",
     "height": 617
    },
    "id": "saIh-zi3OokB",
    "outputId": "0301ef9a-9e0d-472b-a388-50bea934d7ed"
   },
   "outputs": [],
   "source": [
    "from IPython import display\n",
    "display.Image(cat_response.content)"
   ]
  },
  {
   "cell_type": "markdown",
   "metadata": {
    "id": "1nIpR_Q1ZdeZ"
   },
   "source": [
    "So now we have an image of a cat in the response from our request to cataas. But are we sure it's a cat? Well let's check using a different API. I've signed up an account to a service called [imagga](https://imagga.com/) that performs image analysis, including assigning tags to an image with associated confidence levels.\n",
    "\n",
    "To access this service, we can submit our image that we obtained from the cat as a service endpoint by submitting it to the imagga service using a POST request. Just like the GET request, we can use the http verb as a function call with the requests library (`requests.post()`). Only this time, as we're submitting a post request, it will require some additional information beyond just the URL we submitted to cataas.\n",
    "\n",
    "We'll start by defining a few variables that we'll need to access ths service. The service requires credentials to access the APIs - in this case it requests them as a tuple containing an api key and an api secret, which were generated when I signed up. I've combined these two into a tuple which we will use in the request."
   ]
  },
  {
   "cell_type": "code",
   "execution_count": null,
   "metadata": {
    "id": "FrnSuSylfm05"
   },
   "outputs": [],
   "source": [
    "api_key = 'acc_5a68b63ba144977'\n",
    "api_secret = '8d19df5111960c0a9f79481d50751c59'\n",
    "\n",
    "authorization = (api_key, api_secret)"
   ]
  },
  {
   "cell_type": "markdown",
   "metadata": {
    "id": "sBOgFToygR5L"
   },
   "source": [
    "Next, we need two more things - first, the URL to the endpoint we wish to use. In this case, we are going to obtain a general category of the image from imagga using the api located at https://api.imagga.com/v2/categories/personal_photos.\n",
    "\n",
    "Secondly, we'll need the image we want categorized - in this case it is still available from our `cat_response.content` object we obtained from cataas.\n",
    "\n",
    "Now that we have all the required pieces to form the POST request, we can pass them to the `requests.post()` function and collect the response sent back from the imagga server:"
   ]
  },
  {
   "cell_type": "code",
   "execution_count": null,
   "metadata": {
    "id": "58IVl1yxa-8z"
   },
   "outputs": [],
   "source": [
    "categorization_response = requests.post(\n",
    "    'https://api.imagga.com/v2/categories/personal_photos',\n",
    "    auth=authorization,\n",
    "    files={'image': cat_response.content})"
   ]
  },
  {
   "cell_type": "markdown",
   "metadata": {
    "id": "f-GC8FaAitqX"
   },
   "source": [
    "The response object from the POST request actually contains a copy of the request as sent (a nice feature of the python `requests` library) that we can examine to see exactly what was sent over to the server. Note that there are a number of arguments that were automatically added by the `requests` library using default values:"
   ]
  },
  {
   "cell_type": "code",
   "execution_count": null,
   "metadata": {
    "colab": {
     "base_uri": "https://localhost:8080/"
    },
    "id": "uIx8Cp6hhRwU",
    "outputId": "a0f257ea-c324-4583-c60a-f1947f3bba05"
   },
   "outputs": [],
   "source": [
    "print(\"request url: \" + categorization_response.request.url)\n",
    "print(\"request header: \" + str(categorization_response.request.headers))\n",
    "print(\"request body: \" + str(categorization_response.request.body))"
   ]
  },
  {
   "cell_type": "markdown",
   "metadata": {
    "id": "ZftlhU-JjFZY"
   },
   "source": [
    "Of course, the thing we're REALLY interested in is how well the service was able to assign a category to our cat:"
   ]
  },
  {
   "cell_type": "code",
   "execution_count": null,
   "metadata": {
    "colab": {
     "base_uri": "https://localhost:8080/"
    },
    "id": "KgZB4qW7jN77",
    "outputId": "b476caa0-2531-4917-a011-74f8079525ae"
   },
   "outputs": [],
   "source": [
    "categorization_response.json()"
   ]
  },
  {
   "cell_type": "markdown",
   "metadata": {
    "id": "FXBioMaNjaMc"
   },
   "source": [
    "Depending on the random image you got from cataas, you may not be satisfied with this answer. Let's try again with a different algorithm - one that assigns descriptive 'tags' to our image that describe it. You can see that the majority of the request is unchanged, except for the URL to which it is submitted:"
   ]
  },
  {
   "cell_type": "code",
   "execution_count": null,
   "metadata": {
    "id": "JQxpTvnFSM95"
   },
   "outputs": [],
   "source": [
    "classification_response = requests.post(\n",
    "    'https://api.imagga.com/v2/tags',\n",
    "    auth=authorization,\n",
    "    # files={'image': cat_response.content})\n",
    "    data={'image': cat_response.content})"
   ]
  },
  {
   "cell_type": "markdown",
   "metadata": {
    "id": "cAFgTX9Rjxpf"
   },
   "source": [
    "Now when we get the results, we can see that there are a number of tags assigned with varying degrees of confidence - some of which may or may not be accurate."
   ]
  },
  {
   "cell_type": "code",
   "execution_count": null,
   "metadata": {
    "colab": {
     "base_uri": "https://localhost:8080/"
    },
    "id": "t1_HLehMYnHg",
    "outputId": "66f01be8-c698-4d4d-8cfe-e340969cab1e"
   },
   "outputs": [],
   "source": [
    "classification_response.json()"
   ]
  }
 ],
 "metadata": {
  "colab": {
   "authorship_tag": "ABX9TyMptIFmQqn3Tdvrl98tf5FR",
   "collapsed_sections": [],
   "include_colab_link": true,
   "name": "Intro_to_APIs.ipynb",
   "provenance": []
  },
  "kernelspec": {
   "display_name": "IPython (Python 3)",
   "language": "python",
   "name": "python3"
  },
  "language_info": {
   "codemirror_mode": {
    "name": "ipython",
    "version": 3
   },
   "file_extension": ".py",
   "mimetype": "text/x-python",
   "name": "python",
   "nbconvert_exporter": "python",
   "pygments_lexer": "ipython3",
   "version": "3.6.2"
  }
 },
 "nbformat": 4,
 "nbformat_minor": 1
}
